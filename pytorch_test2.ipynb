{
 "cells": [
  {
   "cell_type": "markdown",
   "metadata": {},
   "source": [
    "<h1> Pytorch入門 </h1>"
   ]
  },
  {
   "cell_type": "code",
   "execution_count": 48,
   "metadata": {},
   "outputs": [],
   "source": [
    "from __future__ import print_function\n",
    "import torch"
   ]
  },
  {
   "cell_type": "code",
   "execution_count": 9,
   "metadata": {},
   "outputs": [
    {
     "name": "stdout",
     "output_type": "stream",
     "text": [
      "tensor([[ 0.0000, -2.0000,  0.0000],\n",
      "        [-2.0000,  0.0000,  0.0000],\n",
      "        [ 0.0000,  0.0000,  0.0000],\n",
      "        [ 0.0000,  0.0000,  0.0000],\n",
      "        [ 0.0000,  0.0000,  0.0000]])\n"
     ]
    }
   ],
   "source": [
    "x = torch.empty(5,3) #初期化されていない5*3の行列\n",
    "print(x)"
   ]
  },
  {
   "cell_type": "code",
   "execution_count": 10,
   "metadata": {},
   "outputs": [
    {
     "name": "stdout",
     "output_type": "stream",
     "text": [
      "tensor([[0.4637, 0.9118, 0.4526],\n",
      "        [0.5456, 0.3533, 0.1207],\n",
      "        [0.4864, 0.8010, 0.2632],\n",
      "        [0.8288, 0.7410, 0.4800],\n",
      "        [0.1171, 0.4663, 0.4230]])\n"
     ]
    }
   ],
   "source": [
    "x = torch.rand(5,3) #ランダムに初期化された行列\n",
    "print(x)"
   ]
  },
  {
   "cell_type": "code",
   "execution_count": 14,
   "metadata": {},
   "outputs": [
    {
     "name": "stdout",
     "output_type": "stream",
     "text": [
      "tensor([[0, 0, 0],\n",
      "        [0, 0, 0],\n",
      "        [0, 0, 0],\n",
      "        [0, 0, 0],\n",
      "        [0, 0, 0]])\n"
     ]
    }
   ],
   "source": [
    "x = torch.zeros(5,3,dtype=torch.long) #long型の行列を0で埋める\n",
    "print(x)"
   ]
  },
  {
   "cell_type": "code",
   "execution_count": 15,
   "metadata": {},
   "outputs": [
    {
     "name": "stdout",
     "output_type": "stream",
     "text": [
      "tensor([5.5000, 3.0000])\n"
     ]
    }
   ],
   "source": [
    "x = torch.tensor([5.5,3]) #Tensorの構築\n",
    "print(x)"
   ]
  },
  {
   "cell_type": "code",
   "execution_count": 20,
   "metadata": {},
   "outputs": [
    {
     "name": "stdout",
     "output_type": "stream",
     "text": [
      "tensor([[1., 1., 1.],\n",
      "        [1., 1., 1.],\n",
      "        [1., 1., 1.],\n",
      "        [1., 1., 1.],\n",
      "        [1., 1., 1.]], dtype=torch.float64)\n",
      "tensor([[ 0.9426,  0.9213, -0.5243],\n",
      "        [-1.3979, -0.3477,  0.9054],\n",
      "        [-1.9180,  0.4292,  0.1225],\n",
      "        [-0.1284,  0.2609,  0.8424],\n",
      "        [ 0.1347, -0.2114,  0.1352]])\n",
      "torch.Size([5, 3])\n"
     ]
    }
   ],
   "source": [
    "x = x.new_ones(5,3,dtype=torch.double) #new_* methods take in size\n",
    "print(x)\n",
    "x = torch.randn_like(x,dtype=torch.float) #xの型を上書き\n",
    "print(x) \n",
    "# サイズはxを維持している\n",
    "print(x.size())"
   ]
  },
  {
   "cell_type": "markdown",
   "metadata": {},
   "source": [
    "<h1> ~ オペレーション ~ </h1>\n",
    "<h2>加算や減算を行う</h2>\n",
    "<h3>１回計算するのにも種類がある</h3>"
   ]
  },
  {
   "cell_type": "code",
   "execution_count": 25,
   "metadata": {},
   "outputs": [
    {
     "name": "stdout",
     "output_type": "stream",
     "text": [
      "tensor([[ 1.4678,  1.8642, -0.2186],\n",
      "        [-0.8986,  0.3156,  1.5179],\n",
      "        [-1.0826,  0.5941,  0.2969],\n",
      "        [ 0.2477,  1.2157,  1.7932],\n",
      "        [ 0.2479,  0.1986,  1.1288]])\n",
      "tensor([[ 1.4678,  1.8642, -0.2186],\n",
      "        [-0.8986,  0.3156,  1.5179],\n",
      "        [-1.0826,  0.5941,  0.2969],\n",
      "        [ 0.2477,  1.2157,  1.7932],\n",
      "        [ 0.2479,  0.1986,  1.1288]])\n",
      "tensor([[ 1.4678,  1.8642, -0.2186],\n",
      "        [-0.8986,  0.3156,  1.5179],\n",
      "        [-1.0826,  0.5941,  0.2969],\n",
      "        [ 0.2477,  1.2157,  1.7932],\n",
      "        [ 0.2479,  0.1986,  1.1288]])\n",
      "tensor([[ 1.4678,  1.8642, -0.2186],\n",
      "        [-0.8986,  0.3156,  1.5179],\n",
      "        [-1.0826,  0.5941,  0.2969],\n",
      "        [ 0.2477,  1.2157,  1.7932],\n",
      "        [ 0.2479,  0.1986,  1.1288]])\n"
     ]
    }
   ],
   "source": [
    "y = torch.rand(5,3)\n",
    "## 単純に足す\n",
    "print(x+y)\n",
    "\n",
    "## add関数を使用する\n",
    "print(torch.add(x,y))\n",
    "\n",
    "## 出力をadd関数の引数として与える\n",
    "result = torch.empty(5,3)\n",
    "torch.add(x,y,out=result)\n",
    "print(result)\n",
    "\n",
    "## adds x to y\n",
    "y.add_(x)\n",
    "print(y)"
   ]
  },
  {
   "cell_type": "code",
   "execution_count": 26,
   "metadata": {},
   "outputs": [
    {
     "name": "stdout",
     "output_type": "stream",
     "text": [
      "tensor([ 0.9213, -0.3477,  0.4292,  0.2609, -0.2114])\n"
     ]
    }
   ],
   "source": [
    "## 参照の仕方\n",
    "# 通常のnumpyのような索引付けが可能\n",
    "print(x[:,1])"
   ]
  },
  {
   "cell_type": "code",
   "execution_count": 35,
   "metadata": {},
   "outputs": [
    {
     "name": "stdout",
     "output_type": "stream",
     "text": [
      "torch.Size([4, 4]) torch.Size([16]) torch.Size([2, 8])\n"
     ]
    }
   ],
   "source": [
    "## サイズ変更\n",
    "x = torch.randn(4,4)\n",
    "y = x.view(16)\n",
    "z = x.view(-1,8) # (-1,8) (-1,4) などにすることで勝手にサイズを決める\n",
    "print(x.size(),y.size(),z.size())"
   ]
  },
  {
   "cell_type": "code",
   "execution_count": 36,
   "metadata": {},
   "outputs": [
    {
     "name": "stdout",
     "output_type": "stream",
     "text": [
      "tensor([-0.0425])\n",
      "-0.042535778135061264\n"
     ]
    }
   ],
   "source": [
    "## item関数を使用し、値を取り出し 1要素のテンソルのみ\n",
    "x = torch.randn(1)\n",
    "print(x)\n",
    "print(x.item())"
   ]
  },
  {
   "cell_type": "markdown",
   "metadata": {},
   "source": [
    "<h2>Tensor to Numpy</h2>\n",
    "<h2>Numpy to Tensor</h2>"
   ]
  },
  {
   "cell_type": "code",
   "execution_count": 45,
   "metadata": {},
   "outputs": [
    {
     "name": "stdout",
     "output_type": "stream",
     "text": [
      "tensor([1., 1., 1., 1., 1.])\n",
      "[ 1.  1.  1.  1.  1.]\n"
     ]
    }
   ],
   "source": [
    "## Tensor to Numpy\n",
    "a = torch.ones(5)\n",
    "print(a)\n",
    "b = a.numpy()\n",
    "print(b)"
   ]
  },
  {
   "cell_type": "code",
   "execution_count": 42,
   "metadata": {},
   "outputs": [
    {
     "name": "stdout",
     "output_type": "stream",
     "text": [
      "[ 1.  1.  1.  1.  1.]\n",
      "tensor([1., 1., 1., 1., 1.], dtype=torch.float64)\n"
     ]
    }
   ],
   "source": [
    "## Numpy to Tensor\n",
    "import numpy as np\n",
    "c = np.ones(5)\n",
    "print(c)\n",
    "d = torch.from_numpy(c)\n",
    "print(d)"
   ]
  },
  {
   "cell_type": "code",
   "execution_count": 46,
   "metadata": {},
   "outputs": [
    {
     "name": "stdout",
     "output_type": "stream",
     "text": [
      "tensor([2., 2., 2., 2., 2.])\n",
      "[ 2.  2.  2.  2.  2.]\n"
     ]
    }
   ],
   "source": [
    "a.add_(1) # <- なぞ\n",
    "print(a)\n",
    "print(b)"
   ]
  },
  {
   "cell_type": "code",
   "execution_count": 47,
   "metadata": {},
   "outputs": [
    {
     "name": "stdout",
     "output_type": "stream",
     "text": [
      "[ 2.  2.  2.  2.  2.]\n",
      "tensor([2., 2., 2., 2., 2.], dtype=torch.float64)\n"
     ]
    }
   ],
   "source": [
    "np.add(c, 1, out=c) # <- なぞ（cの操作でdも変わる）\n",
    "print(c)\n",
    "print(d)"
   ]
  },
  {
   "cell_type": "code",
   "execution_count": null,
   "metadata": {},
   "outputs": [],
   "source": []
  }
 ],
 "metadata": {
  "kernelspec": {
   "display_name": "Python 3",
   "language": "python",
   "name": "python3"
  },
  "language_info": {
   "codemirror_mode": {
    "name": "ipython",
    "version": 3
   },
   "file_extension": ".py",
   "mimetype": "text/x-python",
   "name": "python",
   "nbconvert_exporter": "python",
   "pygments_lexer": "ipython3",
   "version": "3.6.0"
  }
 },
 "nbformat": 4,
 "nbformat_minor": 2
}
