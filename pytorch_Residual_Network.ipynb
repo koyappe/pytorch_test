{
 "cells": [
  {
   "cell_type": "markdown",
   "metadata": {},
   "source": [
    "# Residual Network\n",
    "\n",
    "\n",
    "従来のCNNアーキテクチャでは22層（GoogLeNet）が限界だったが、このアーキテクチャは152層のネットワークを実現した<br>\n",
    "「ある層で求める***最適な出力***を学習するのではなく、層の入力を参照した***残差関数***を学習する」 というアイデア\n",
    "\n",
    "\n",
    "ResNetには**残差ブロック**と**Shortcut Connection**が導入されている<br>\n",
    "一般的なNNが下の図左側とすると、残差ブロックは右側で表すことができる\n",
    "\n",
    "<img src=\"NN.png\" width=\"200px\"><img src=\"ResNet.png\" width=\"330px\"><br>\n",
    "残差ブロックでは、畳込み層とSkip Connectionの組み合わせになっている<br>2つの枝から構成されていて、それぞれの要素を足し合わせる<br>残差ブロックの一つはConvolution層の組み合わせで、もう一つはIdentity関数となる<br>\n",
    "残差ブロックの導入により、より深いネットワークを実現できた\n",
    "\n",
    "\n",
    "Residual Blockには２つのアーキテクチャがある\n",
    " - Plainアーキテクチャ(左)\n",
    " - Bottleneckアーキテクチャ(右)\n",
    "\n",
    "<img src=\"Plain.png\" width=\"330px\"><img src=\"Bottleneck.png\" width=\"330px\"><br>\n",
    "\n",
    "\n",
    "バッチノーマライゼーションと畳み込み層を繰り返した正規ルートの出力にそれらをスキップしたショートカットを加算した結果をrelu関数に与える\n",
    "***"
   ]
  },
  {
   "cell_type": "markdown",
   "metadata": {},
   "source": [
    "**[step 1]**ライブラリのインポート"
   ]
  },
  {
   "cell_type": "code",
   "execution_count": 6,
   "metadata": {},
   "outputs": [],
   "source": [
    "import torch\n",
    "import torch.nn as nn\n",
    "import torch.nn.functional as F\n",
    "import torch.optim as optim\n",
    "import torchvision\n",
    "from torchvision import transforms,datasets\n",
    "import torch.utils.data\n",
    "import matplotlib.pyplot as plt\n",
    "import numpy as np\n",
    "%matplotlib inline"
   ]
  },
  {
   "cell_type": "markdown",
   "metadata": {},
   "source": [
    "**[step 2-1]** Plainブロック"
   ]
  },
  {
   "cell_type": "code",
   "execution_count": 10,
   "metadata": {},
   "outputs": [],
   "source": [
    "class ResidualPlainBlock(nn.Module):\n",
    "    def __init__(self, in_channels, out_channels, stride):\n",
    "        super(ResidualPlainBlock, self).__init__()\n",
    "        \n",
    "        self.conv1 = nn.Conv2d(in_channels, out_channels, kernel_size=3, stride=stride, padding=1, bias=False)\n",
    "        self.bn1 = nn.BatchNorm2d(out_channels)\n",
    "        self.conv2d = nn.Conv2d(out_channels, out_channels, kernel_size=3, stride=1, padding=1, bias=False)\n",
    "        self.bn2 = nn.BatchNorm2d(out_channels)\n",
    "        \n",
    "        self.shortcut = nn.Sequential()\n",
    "        if in_channels!=out_channels:\n",
    "            self.shortcut.add_module('conv', nn.Conv2d(in_channels, out_channels, kernel_size=1, stride=stride, padding=0, bias=False))\n",
    "            self.shortcut.add_module('bn', nn.BatchNorm2d(out_channels))\n",
    "    \n",
    "    def forward(self, x):\n",
    "        out = F.relu(self.bn1(self.conv1(x)), inplace=True)\n",
    "        out = self.bn2(self.conv2(out))\n",
    "        out += self.shortcut(x)\n",
    "        return F.relu(out, inplace=True)"
   ]
  },
  {
   "cell_type": "markdown",
   "metadata": {},
   "source": [
    "**[step 2-2]** Bottleneckブロック"
   ]
  },
  {
   "cell_type": "code",
   "execution_count": 11,
   "metadata": {},
   "outputs": [],
   "source": [
    "class ResidualBottleneckBlock(nn.Module):\n",
    "    expansion=4\n",
    "    \n",
    "    def __init__(self, in_channels, out_channels, stride):\n",
    "        super(ResidualBottleneckBlock, self).__init__()\n",
    "        \n",
    "        bottleneck_channels = out_channels//self.expansion\n",
    "        \n",
    "        self.conv1 = nn.Conv2d(in_channels, bottleneck_channels, kernel_size=1, stride=1, padding=0, bias=False)\n",
    "        self.bn1 = nn.BatchNorm2d(bottleneck_channels)\n",
    "        \n",
    "        self.conv2 = nn.Conv2d(bottleneck_channels, bottleneck_channels, kernel_size=3, stride=stride, padding=1, bias=False)\n",
    "        self.bn2 = nn.BatchNorm2d(bottleneck_channels)\n",
    "        \n",
    "        self.conv3 = nn.Conv2d(bottleneck_channels, out_channels, kernel_size=1, stride=1, padding=0, bias=False)\n",
    "        self.bn3 = nn.BatchNorm2d(out_channels)\n",
    "        \n",
    "        self.shortcut = nn.Sequential()\n",
    "        if in_channels != out_channels:\n",
    "            self.shortcut.add_module('conv', nn.Conv2d(in_channels, out_channels, kernel_size=1, stride=stride, padding=0, bias=False))\n",
    "            self.shortcut.add_module('bn', nn.BatchNorm2d(out_channels))\n",
    "    \n",
    "    def forward(self, x):\n",
    "        out = F.relu(self.bn1(self.conv1(x)), inplace=True)\n",
    "        out = F.relu(self.bn2(self.conv2(out)), inplace=True)\n",
    "        out = self.bn3(self.conv3(out))\n",
    "        out += self.shortcut(x)\n",
    "        return F.relu(out, inplace=True)"
   ]
  },
  {
   "cell_type": "code",
   "execution_count": null,
   "metadata": {},
   "outputs": [],
   "source": []
  }
 ],
 "metadata": {
  "kernelspec": {
   "display_name": "Python 3",
   "language": "python",
   "name": "python3"
  },
  "language_info": {
   "codemirror_mode": {
    "name": "ipython",
    "version": 3
   },
   "file_extension": ".py",
   "mimetype": "text/x-python",
   "name": "python",
   "nbconvert_exporter": "python",
   "pygments_lexer": "ipython3",
   "version": "3.6.0"
  }
 },
 "nbformat": 4,
 "nbformat_minor": 2
}
