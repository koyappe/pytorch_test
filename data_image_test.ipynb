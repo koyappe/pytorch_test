{
 "cells": [
  {
   "cell_type": "code",
   "execution_count": 1,
   "metadata": {},
   "outputs": [],
   "source": [
    "from PIL import Image\n",
    "img = Image.open('./actress_ex_data/origin/Kanna_Hashimoto/1. qfhnpnpm_400x400.jpg')\n",
    "width,height=256,256\n",
    "img = img.resize((width,height))\n",
    "img.save('./actress_ex_data/cleansing_256/Kanna_Hashimoto/Sample_1.jpg')"
   ]
  },
  {
   "cell_type": "code",
   "execution_count": 2,
   "metadata": {},
   "outputs": [],
   "source": [
    "from PIL import Image\n",
    "img = Image.open('./actress_ex_data/cleansing_256/Kanna_Hashimoto/Sample_1.jpg')\n",
    "width,height=32,32\n",
    "img = img.resize((width,height))\n",
    "img.save('./actress_ex_data/cleansing_32/Kanna_Hashimoto/Sample_1.jpg')"
   ]
  },
  {
   "cell_type": "code",
   "execution_count": 3,
   "metadata": {},
   "outputs": [],
   "source": [
    "from PIL import Image\n",
    "img = Image.open('./actress_ex_data/cleansing_32/Kanna_Hashimoto/Sample_1.jpg')\n",
    "width,height=256,256\n",
    "img = img.resize((width,height))\n",
    "img.save('./actress_ex_data/cleansing_32to256/Kanna_Hashimoto/Sample_1.jpg')"
   ]
  },
  {
   "cell_type": "code",
   "execution_count": 30,
   "metadata": {},
   "outputs": [
    {
     "ename": "FileNotFoundError",
     "evalue": "[Errno 2] No such file or directory: 'actress_ex_data/origin/Yurina_Hirate/97. ?media_id=431541953970029.jpg'",
     "output_type": "error",
     "traceback": [
      "\u001b[0;31m---------------------------------------------------------------------------\u001b[0m",
      "\u001b[0;31mFileNotFoundError\u001b[0m                         Traceback (most recent call last)",
      "\u001b[0;32m<ipython-input-30-e7fea760e3cf>\u001b[0m in \u001b[0;36m<module>\u001b[0;34m()\u001b[0m\n\u001b[1;32m      1\u001b[0m \u001b[0mpath\u001b[0m \u001b[0;34m=\u001b[0m \u001b[0;34m'actress_ex_data/origin/Yurina_Hirate/97. ?media_id=431541953970029.jpg'\u001b[0m\u001b[0;34m\u001b[0m\u001b[0m\n\u001b[1;32m      2\u001b[0m \u001b[0;32mfrom\u001b[0m \u001b[0mPIL\u001b[0m \u001b[0;32mimport\u001b[0m \u001b[0mImage\u001b[0m\u001b[0;34m\u001b[0m\u001b[0m\n\u001b[0;32m----> 3\u001b[0;31m \u001b[0mimg\u001b[0m \u001b[0;34m=\u001b[0m \u001b[0mImage\u001b[0m\u001b[0;34m.\u001b[0m\u001b[0mopen\u001b[0m\u001b[0;34m(\u001b[0m\u001b[0mpath\u001b[0m\u001b[0;34m)\u001b[0m\u001b[0;34m\u001b[0m\u001b[0m\n\u001b[0m",
      "\u001b[0;32m/Users/koyamatakuma/.pyenv/versions/anaconda3-4.3.1/lib/python3.6/site-packages/PIL/Image.py\u001b[0m in \u001b[0;36mopen\u001b[0;34m(fp, mode)\u001b[0m\n\u001b[1;32m   2607\u001b[0m \u001b[0;34m\u001b[0m\u001b[0m\n\u001b[1;32m   2608\u001b[0m     \u001b[0;32mif\u001b[0m \u001b[0mfilename\u001b[0m\u001b[0;34m:\u001b[0m\u001b[0;34m\u001b[0m\u001b[0m\n\u001b[0;32m-> 2609\u001b[0;31m         \u001b[0mfp\u001b[0m \u001b[0;34m=\u001b[0m \u001b[0mbuiltins\u001b[0m\u001b[0;34m.\u001b[0m\u001b[0mopen\u001b[0m\u001b[0;34m(\u001b[0m\u001b[0mfilename\u001b[0m\u001b[0;34m,\u001b[0m \u001b[0;34m\"rb\"\u001b[0m\u001b[0;34m)\u001b[0m\u001b[0;34m\u001b[0m\u001b[0m\n\u001b[0m\u001b[1;32m   2610\u001b[0m         \u001b[0mexclusive_fp\u001b[0m \u001b[0;34m=\u001b[0m \u001b[0;32mTrue\u001b[0m\u001b[0;34m\u001b[0m\u001b[0m\n\u001b[1;32m   2611\u001b[0m \u001b[0;34m\u001b[0m\u001b[0m\n",
      "\u001b[0;31mFileNotFoundError\u001b[0m: [Errno 2] No such file or directory: 'actress_ex_data/origin/Yurina_Hirate/97. ?media_id=431541953970029.jpg'"
     ]
    }
   ],
   "source": [
    "path = 'actress_ex_data/origin/Yurina_Hirate/97. ?media_id=431541953970029.jpg'\n",
    "from PIL import Image\n",
    "img = Image.open(path)"
   ]
  },
  {
   "cell_type": "code",
   "execution_count": 23,
   "metadata": {},
   "outputs": [
    {
     "name": "stdout",
     "output_type": "stream",
     "text": [
      "['Yurina_Hirate', 'Suzu_Hirose', '.DS_Store', 'Maki_Horikita', 'Kanna_Hashimoto']\n",
      "['Yurina_Hirate', 'Suzu_Hirose', 'Maki_Horikita', 'Kanna_Hashimoto']\n",
      "['Yurina_Hirate', 'Suzu_Hirose', 'Maki_Horikita', 'Kanna_Hashimoto']\n",
      "['Yurina_Hirate', 'Suzu_Hirose', 'Maki_Horikita', 'Kanna_Hashimoto']\n"
     ]
    }
   ],
   "source": [
    "import os\n",
    "print(os.listdir('actress_ex_data/origin'))\n",
    "print(os.listdir('actress_ex_data/cleansing_256/'))\n",
    "print(os.listdir('actress_ex_data/cleansing_32'))\n",
    "print(os.listdir('actress_ex_data/cleansing_32to256//'))"
   ]
  },
  {
   "cell_type": "code",
   "execution_count": 21,
   "metadata": {},
   "outputs": [],
   "source": [
    "!find ./actress_ex_data/ -name \".DS_Store\"\n",
    "!find ./actress_ex_data/ -name \".ipynb_checkpoints\""
   ]
  },
  {
   "cell_type": "code",
   "execution_count": 17,
   "metadata": {},
   "outputs": [],
   "source": [
    "!find ./actress_ex_data/ -name \".DS_Store\" -delete"
   ]
  },
  {
   "cell_type": "code",
   "execution_count": 22,
   "metadata": {},
   "outputs": [],
   "source": [
    "#ライブラリのインポート\n",
    "import os\n",
    "from PIL import Image\n",
    "\n",
    "#originから元画像の取得 全女優\n",
    "#origin -> cleansing_256 256*256\n",
    "input_dir = 'actress_ex_data/cleansing_over_256/'\n",
    "output_dir = 'actress_ex_data/cleansing_256/'\n",
    "img_size = 256\n",
    "for origin_actress_dir in os.listdir(input_dir):\n",
    "    actress_dir_path = input_dir + origin_actress_dir\n",
    "    for i,img_name in enumerate(os.listdir(actress_dir_path)):\n",
    "        img_path = actress_dir_path + '/' + img_name \n",
    "        img = Image.open(img_path)\n",
    "        img = img.resize((img_size, img_size))\n",
    "        img.save(output_dir + origin_actress_dir + '/Sample_img_{}.jpg'.format(i))\n",
    "        \n",
    "            \n",
    "#cleansing_256から画像の取得 全女優\n",
    "#cleansing_256 -> cleansing_32 32*32\n",
    "input_dir = 'actress_ex_data/cleansing_256/'\n",
    "output_dir = 'actress_ex_data/cleansing_32/'\n",
    "img_size = 32\n",
    "for origin_actress_dir in os.listdir(input_dir):\n",
    "    actress_dir_path = input_dir + origin_actress_dir\n",
    "    for i,img_name in enumerate(os.listdir(actress_dir_path)):\n",
    "        img_path = actress_dir_path + '/' + img_name\n",
    "        img = Image.open(img_path)\n",
    "        img = img.resize((img_size, img_size))\n",
    "        img.save(output_dir + origin_actress_dir + '/Sample_img_{}.jpg'.format(i))\n",
    "\n",
    "#cleansing_32から画像の取得 全女優\n",
    "#cleansing_32 -> cleansing_32to256\n",
    "input_dir = 'actress_ex_data/cleansing_32/'\n",
    "output_dir = 'actress_ex_data/cleansing_32to256/'\n",
    "img_size = 256\n",
    "for origin_actress_dir in os.listdir(input_dir):\n",
    "    actress_dir_path = input_dir + origin_actress_dir\n",
    "    for i,img_name in enumerate(os.listdir(actress_dir_path)):\n",
    "        img_path = actress_dir_path + '/' + img_name\n",
    "        img = Image.open(img_path)\n",
    "        img = img.resize((img_size, img_size))\n",
    "        img.save(output_dir + origin_actress_dir + '/Sample_img_{}.jpg'.format(i))\n"
   ]
  },
  {
   "cell_type": "code",
   "execution_count": 39,
   "metadata": {},
   "outputs": [],
   "source": [
    "#256*256以上の画像を別フォルダに保存\n",
    "\n",
    "from PIL import Image\n",
    "import os\n",
    "input_dir = 'actress_ex_data/actress_face/Yurina_Hirate/'\n",
    "output_dir = 'actress_ex_data/cleansing_over_256/Yurina_Hirate/'\n",
    "for i,filename in enumerate(os.listdir(input_dir)):\n",
    "    #画像の読み込み\n",
    "    im = Image.open(input_dir + filename)\n",
    "    size = im.size\n",
    "    if size[0]>256 and size[1]>256:\n",
    "        im.save(output_dir + 'Sample_img_{}.jpg'.format(i))\n",
    "    else:\n",
    "        pass"
   ]
  },
  {
   "cell_type": "code",
   "execution_count": 15,
   "metadata": {},
   "outputs": [
    {
     "name": "stdout",
     "output_type": "stream",
     "text": [
      "      56\n",
      "      45\n",
      "      49\n",
      "      38\n"
     ]
    }
   ],
   "source": [
    "!ls actress_ex_data/cleansing_over_256/Kanna_Hashimoto/ | wc -w\n",
    "!ls actress_ex_data/cleansing_over_256/Maki_Horikita/ | wc -w\n",
    "!ls actress_ex_data/cleansing_over_256/Suzu_Hirose/ | wc -w\n",
    "!ls actress_ex_data/cleansing_over_256/Yurina_Hirate/ | wc -w"
   ]
  },
  {
   "cell_type": "code",
   "execution_count": null,
   "metadata": {},
   "outputs": [],
   "source": []
  }
 ],
 "metadata": {
  "kernelspec": {
   "display_name": "Python 3",
   "language": "python",
   "name": "python3"
  },
  "language_info": {
   "codemirror_mode": {
    "name": "ipython",
    "version": 3
   },
   "file_extension": ".py",
   "mimetype": "text/x-python",
   "name": "python",
   "nbconvert_exporter": "python",
   "pygments_lexer": "ipython3",
   "version": "3.6.0"
  }
 },
 "nbformat": 4,
 "nbformat_minor": 2
}
