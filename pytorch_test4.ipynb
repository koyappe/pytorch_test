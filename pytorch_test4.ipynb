{
 "cells": [
  {
   "cell_type": "markdown",
   "metadata": {},
   "source": [
    "<h1>ニューラルネットワーク</h1>"
   ]
  },
  {
   "cell_type": "code",
   "execution_count": 1,
   "metadata": {},
   "outputs": [],
   "source": [
    "import torch\n",
    "import torch.nn as nn  #ミニバッチが前提？\n",
    "import torch.nn.functional as F"
   ]
  },
  {
   "cell_type": "code",
   "execution_count": 5,
   "metadata": {},
   "outputs": [
    {
     "name": "stdout",
     "output_type": "stream",
     "text": [
      "Net(\n",
      "  (conv1): Conv2d(1, 6, kernel_size=(5, 5), stride=(1, 1))\n",
      "  (conv2): Conv2d(6, 16, kernel_size=(5, 5), stride=(1, 1))\n",
      "  (fc1): Linear(in_features=400, out_features=120, bias=True)\n",
      "  (fc2): Linear(in_features=120, out_features=84, bias=True)\n",
      "  (fc3): Linear(in_features=84, out_features=10, bias=True)\n",
      ")\n"
     ]
    }
   ],
   "source": [
    "class Net(nn.Module):\n",
    "    def __init__(self):\n",
    "        super(Net, self).__init__()\n",
    "        # 入力チャンネル : 1 1Sample?\n",
    "        # 出力チャンネル : 6 6Channels?\n",
    "        # 5 * 5 正方形の畳み込み層  5 Height 5 Width \n",
    "        self.conv1 = nn.Conv2d(1,6,5)\n",
    "        self.conv2 = nn.Conv2d(6,16,5)\n",
    "        # アフィンオペレーション\n",
    "        #  y = Wx + b\n",
    "        self.fc1 = nn.Linear(16 * 5 * 5, 120)\n",
    "        self.fc2 = nn.Linear(120, 84)\n",
    "        self.fc3 = nn.Linear(84, 10)\n",
    "        \n",
    "    def forward(self, x):\n",
    "        x = F.max_pool2d(F.relu(self.conv1(x)), (2,2))\n",
    "        x = F.max_pool2d(F.relu(self.conv2(x)), 2)\n",
    "        # 上は同じ意味（正方形は2などで良い）\n",
    "        x = x.view(-1, self.num_flat_features(x))\n",
    "        x = F.relu(self.fc1(x))\n",
    "        x = F.relu(self.fc2(x))\n",
    "        x = self.fc3(x)\n",
    "        return x\n",
    "    \n",
    "    def num_flat_features(self, x):\n",
    "        size = x.size()[1:]\n",
    "        num_features = 1\n",
    "        for s in size:\n",
    "            num_features *= s\n",
    "        return num_features\n",
    "\n",
    "net = Net()\n",
    "print(net)"
   ]
  },
  {
   "cell_type": "markdown",
   "metadata": {},
   "source": [
    "<h4>forward関数を定義するだけで自動的にbackward関数が定義される</h4>"
   ]
  },
  {
   "cell_type": "code",
   "execution_count": 8,
   "metadata": {},
   "outputs": [
    {
     "name": "stdout",
     "output_type": "stream",
     "text": [
      "10\n",
      "torch.Size([6, 1, 5, 5])\n"
     ]
    }
   ],
   "source": [
    "## 学習可能なモデルのパラメータはnet.parameters()で取得\n",
    "params = list(net.parameters())\n",
    "print(len(params))\n",
    "print(params[0].size())"
   ]
  },
  {
   "cell_type": "code",
   "execution_count": 10,
   "metadata": {},
   "outputs": [
    {
     "name": "stdout",
     "output_type": "stream",
     "text": [
      "tensor([[[[-0.4881, -1.1541, -1.3453,  ...,  1.7916,  0.5993,  0.0182],\n",
      "          [ 1.5172, -0.5187,  0.4842,  ...,  1.0249, -0.1141,  3.1099],\n",
      "          [ 0.3610, -0.0271, -0.8338,  ..., -2.2554,  0.8961,  0.7331],\n",
      "          ...,\n",
      "          [ 0.7301, -1.4158,  1.5179,  ...,  0.2344,  0.8844,  0.5803],\n",
      "          [ 1.0194,  0.6932, -0.3603,  ...,  0.0335, -1.3948, -1.4061],\n",
      "          [-0.7371,  0.0523,  0.6766,  ..., -1.0495,  0.2992,  0.0780]]]])\n",
      "torch.Size([1, 1, 32, 32])\n",
      "tensor([[ 0.0858, -0.0585, -0.1606,  0.1272,  0.0304, -0.0677, -0.0085,  0.1100,\n",
      "         -0.0551, -0.0508]], grad_fn=<ThAddmmBackward>)\n"
     ]
    }
   ],
   "source": [
    "input = torch.randn(1,1,32,32)\n",
    "out = net(input)\n",
    "print(input)\n",
    "print(input.size())\n",
    "print(out)"
   ]
  },
  {
   "cell_type": "code",
   "execution_count": 11,
   "metadata": {},
   "outputs": [],
   "source": [
    "## 全てのパラメータとバックプロットのグラディエントバッファをゼロにする\n",
    "net.zero_grad()\n",
    "out.backward(torch.randn(1,10))"
   ]
  },
  {
   "cell_type": "markdown",
   "metadata": {},
   "source": [
    "<h2>使用したクラス</h2>\n",
    "<h3>torch.Tensor()</h3>\n",
    "<h5>多次元配列の定義</h5>\n",
    "<h3>backward()</h3>\n",
    "<h5></h5>\n",
    "<h3>nn.Module</h3>\n",
    "<h5>ニューラルネットワークモジュール。パラメータをカプセル化する便利な方法</h5>\n",
    "<h3>nn.Parameter</h3>\n",
    "<h5>Tensorの一種。属性として割り当てられた時にパラメータとして自動的に登録される</h5>\n",
    "<h3>autograd.Function</h3>\n",
    "<h5>forward()およびbackward()の定義を実装。</h5>"
   ]
  },
  {
   "cell_type": "code",
   "execution_count": 13,
   "metadata": {},
   "outputs": [
    {
     "name": "stdout",
     "output_type": "stream",
     "text": [
      "torch.Size([1, 10])\n",
      "torch.Size([10])\n",
      "torch.Size([1, 10])\n",
      "tensor(2.0183, grad_fn=<MseLossBackward>)\n"
     ]
    }
   ],
   "source": [
    "## 損失の計算\n",
    "## nnパッケージにいくつかの損失関数がある\n",
    "## 代表的なものはnn.MSELoss <- 入力とターゲット間の平均二乗誤差を計算\n",
    "\n",
    "# 入力データをネットワークに入力し、出力を得る\n",
    "output = net(input)\n",
    "print(output.size())\n",
    "# ダミーの正解データ（target）を作成\n",
    "target = torch.randn(10)\n",
    "print(target.size())\n",
    "# ダミーターゲットのリサイズ\n",
    "target = target.view(1,-1)\n",
    "print(target.size())\n",
    "# 損失関数の定義\n",
    "criterion = nn.MSELoss()\n",
    "# 出力とダミーターゲットのロスを求める\n",
    "loss = criterion(output,target)\n",
    "print(loss)"
   ]
  },
  {
   "cell_type": "markdown",
   "metadata": {},
   "source": [
    "<h2>backwardでは次のような計算のグラフが表示される</h2>\n",
    "<h3>input -> conv2 -> relu -> maxpool2d -> conv2d -> relu -> maxpool2d</h3>\n",
    "<h3>-> view -> linear ->relu -> linear -> relu -> linear </h3>\n",
    "<h3>-> MSELodd</h3>\n",
    "<h3>-> loss</h3>"
   ]
  },
  {
   "cell_type": "code",
   "execution_count": 15,
   "metadata": {},
   "outputs": [
    {
     "name": "stdout",
     "output_type": "stream",
     "text": [
      "<MseLossBackward object at 0x110351d30>\n",
      "<ThAddmmBackward object at 0x110351e80>\n",
      "<ExpandBackward object at 0x110351d30>\n"
     ]
    }
   ],
   "source": [
    "print(loss.grad_fn) # MSELoss\n",
    "print(loss.grad_fn.next_functions[0][0]) #Linear\n",
    "print(loss.grad_fn.next_functions[0][0].next_functions[0][0]) #ReLU"
   ]
  },
  {
   "cell_type": "code",
   "execution_count": 16,
   "metadata": {},
   "outputs": [
    {
     "name": "stdout",
     "output_type": "stream",
     "text": [
      "conv1.bias.grad before backward\n",
      "tensor([0., 0., 0., 0., 0., 0.])\n",
      "conv1.bias.grad after backward\n",
      "tensor([-0.0050, -0.0178,  0.0331,  0.0107, -0.0277,  0.0197])\n"
     ]
    }
   ],
   "source": [
    "net.zero_grad() #全てのパラメータのグラディエントバッファをゼロにする\n",
    "print('conv1.bias.grad before backward')\n",
    "print(net.conv1.bias.grad)\n",
    "loss.backward()\n",
    "print('conv1.bias.grad after backward')\n",
    "print(net.conv1.bias.grad)"
   ]
  },
  {
   "cell_type": "code",
   "execution_count": 17,
   "metadata": {},
   "outputs": [],
   "source": [
    "## ネットワークの重み更新\n",
    "## 代表的な更新ルールは確率的勾配降下法(SGD)\n",
    "## weight = weight - learning_rate * gradient\n",
    "## 無理やり実装すると以下\n",
    "learning_rate = 0.01\n",
    "for f in net.parameters():\n",
    "    f.data.sub_(f.grad.data * learning_rate)"
   ]
  },
  {
   "cell_type": "markdown",
   "metadata": {},
   "source": [
    "<h4>ニューラルネットワークを使用する場合は、SGD、Nesterov-SGD、Adam、RMSPropなどの様々なことなる更新ルールを使用する必要がある。これを可能にするために、torch.optimを使用する</h4>"
   ]
  },
  {
   "cell_type": "code",
   "execution_count": 18,
   "metadata": {},
   "outputs": [],
   "source": [
    "import torch.optim as optim\n",
    "# create your optimizer\n",
    "optimizer = optim.SGD(net.parameters(), lr=0.01)\n",
    "# in your training loop:\n",
    "# 勾配が蓄積されているため、勾配バッファは手動でゼロにする必要がある\n",
    "optimizer.zero_grad()\n",
    "output = net(input)\n",
    "loss = criterion(output, target)\n",
    "loss.backward()\n",
    "optimizer.step() #重みの更新"
   ]
  }
 ],
 "metadata": {
  "kernelspec": {
   "display_name": "Python 3",
   "language": "python",
   "name": "python3"
  },
  "language_info": {
   "codemirror_mode": {
    "name": "ipython",
    "version": 3
   },
   "file_extension": ".py",
   "mimetype": "text/x-python",
   "name": "python",
   "nbconvert_exporter": "python",
   "pygments_lexer": "ipython3",
   "version": "3.6.0"
  }
 },
 "nbformat": 4,
 "nbformat_minor": 2
}
